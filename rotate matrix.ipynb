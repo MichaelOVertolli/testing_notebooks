{
 "cells": [
  {
   "cell_type": "code",
   "execution_count": 111,
   "metadata": {
    "collapsed": true
   },
   "outputs": [],
   "source": [
    "import numpy as np\n",
    "\n",
    "original = np.random.random((28, 28))\n",
    "\n",
    "flat = original.flatten()\n",
    "\n",
    "def bilinear\n",
    "\n",
    "\n",
    "def get_transform(width, height, angle, offset_x, offset_y):\n",
    "    transform = np.zeros((width*height, width*height))\n",
    "    for i in range(width):\n",
    "        for j in range(height):\n",
    "            ii = (i-offset_x)*np.cos(angle) - (j-offset_y)*np.sin(angle)\n",
    "            jj = (i-offset_x)*np.sin(angle) + (j-offset_y)*np.cos(angle)\n",
    "            \n",
    "            iii = int(ii+offset_x)\n",
    "            jjj = int(jj+offset_y)\n",
    "            \n",
    "            x2 = (ii+offset_x) - iii\n",
    "            y2 = (jj+offset_y) - jjj\n",
    "            x1 = 1-x2\n",
    "            y1 = 1-y2\n",
    "            \n",
    "            amount = np.array([x1*y1, x1*y2, x2*y2, x2*y1])\n",
    "            amount /= np.sum(amount)\n",
    "            \n",
    "            \n",
    "            if 0 <=iii <width and 0<=jjj<height:        \n",
    "                transform[i+width*j, iii+width*jjj] += amount[0]\n",
    "                if jjj+1 < height:\n",
    "                    transform[i+width*j, iii+width*(jjj+1)] += amount[1]\n",
    "                    if iii+1 < width:\n",
    "                        transform[i+width*j, iii+1+width*(jjj+1)] += amount[2]\n",
    "                if iii+1 < width:\n",
    "                    transform[i+width*j, iii+1+width*jjj] += amount[3]\n",
    "    return transform\n",
    "    \n",
    "\n"
   ]
  },
  {
   "cell_type": "code",
   "execution_count": 112,
   "metadata": {
    "collapsed": false
   },
   "outputs": [],
   "source": [
    "t = get_transform(3, 3, np.pi/2, 1, 1)"
   ]
  },
  {
   "cell_type": "code",
   "execution_count": 113,
   "metadata": {
    "collapsed": false
   },
   "outputs": [
    {
     "name": "stdout",
     "output_type": "stream",
     "text": [
      "[[  0.00000000e+00   0.00000000e+00   1.00000000e+00   0.00000000e+00\n",
      "    0.00000000e+00   0.00000000e+00   0.00000000e+00   0.00000000e+00\n",
      "    0.00000000e+00]\n",
      " [  0.00000000e+00   0.00000000e+00   5.00000000e-01   0.00000000e+00\n",
      "    0.00000000e+00   5.00000000e-01   0.00000000e+00   0.00000000e+00\n",
      "    0.00000000e+00]\n",
      " [  0.00000000e+00   0.00000000e+00   0.00000000e+00   0.00000000e+00\n",
      "    0.00000000e+00   0.00000000e+00   0.00000000e+00   0.00000000e+00\n",
      "    1.00000000e+00]\n",
      " [  1.23259516e-32   1.00000000e+00   0.00000000e+00   0.00000000e+00\n",
      "    0.00000000e+00   0.00000000e+00   0.00000000e+00   0.00000000e+00\n",
      "    0.00000000e+00]\n",
      " [  0.00000000e+00   0.00000000e+00   0.00000000e+00   0.00000000e+00\n",
      "    1.00000000e+00   0.00000000e+00   0.00000000e+00   0.00000000e+00\n",
      "    0.00000000e+00]\n",
      " [  0.00000000e+00   0.00000000e+00   0.00000000e+00   0.00000000e+00\n",
      "    0.00000000e+00   0.00000000e+00   0.00000000e+00   1.00000000e+00\n",
      "    0.00000000e+00]\n",
      " [  1.00000000e+00   0.00000000e+00   0.00000000e+00   1.11022302e-16\n",
      "    0.00000000e+00   0.00000000e+00   0.00000000e+00   0.00000000e+00\n",
      "    0.00000000e+00]\n",
      " [  0.00000000e+00   0.00000000e+00   0.00000000e+00   1.00000000e+00\n",
      "    0.00000000e+00   0.00000000e+00   0.00000000e+00   0.00000000e+00\n",
      "    0.00000000e+00]\n",
      " [  0.00000000e+00   0.00000000e+00   0.00000000e+00   0.00000000e+00\n",
      "    0.00000000e+00   0.00000000e+00   1.00000000e+00   1.11022302e-16\n",
      "    0.00000000e+00]]\n"
     ]
    }
   ],
   "source": [
    "print t"
   ]
  },
  {
   "cell_type": "code",
   "execution_count": 114,
   "metadata": {
    "collapsed": true
   },
   "outputs": [],
   "source": [
    "test_in = np.linspace(0, 1, 9)\n",
    "test_out = np.dot(t, test_in)"
   ]
  },
  {
   "cell_type": "code",
   "execution_count": 115,
   "metadata": {
    "collapsed": false
   },
   "outputs": [
    {
     "data": {
      "text/plain": [
       "array([  2.50000000e-01,   4.37500000e-01,   1.00000000e+00,\n",
       "         1.25000000e-01,   5.00000000e-01,   8.75000000e-01,\n",
       "         4.16333634e-17,   3.75000000e-01,   7.50000000e-01])"
      ]
     },
     "execution_count": 115,
     "metadata": {},
     "output_type": "execute_result"
    }
   ],
   "source": [
    "test_out"
   ]
  },
  {
   "cell_type": "code",
   "execution_count": 116,
   "metadata": {
    "collapsed": false
   },
   "outputs": [
    {
     "data": {
      "text/plain": [
       "<matplotlib.image.AxesImage at 0xc5a14a8>"
      ]
     },
     "execution_count": 116,
     "metadata": {},
     "output_type": "execute_result"
    },
    {
     "data": {
      "image/png": "[encoded data removed]",
      "text/plain": [
       "<matplotlib.figure.Figure at 0xc0af5f8>"
      ]
     },
     "metadata": {},
     "output_type": "display_data"
    },
    {
     "data": {
      "image/png": "[encoded data removed]",
      "text/plain": [
       "<matplotlib.figure.Figure at 0xbf9f6d8>"
      ]
     },
     "metadata": {},
     "output_type": "display_data"
    }
   ],
   "source": [
    "%matplotlib inline\n",
    "import pylab\n",
    "pylab.figure()\n",
    "pylab.imshow(test_in.reshape(3, 3), vmax=1, vmin=0, interpolation='nearest')\n",
    "pylab.figure()\n",
    "pylab.imshow(test_out.reshape(3, 3), vmax=1, vmin=0, interpolation='nearest')\n"
   ]
  },
  {
   "cell_type": "code",
   "execution_count": null,
   "metadata": {
    "collapsed": true
   },
   "outputs": [],
   "source": []
  },
  {
   "cell_type": "code",
   "execution_count": null,
   "metadata": {
    "collapsed": true
   },
   "outputs": [],
   "source": []
  }
 ],
 "metadata": {
  "kernelspec": {
   "display_name": "Python 2",
   "language": "python",
   "name": "python2"
  },
  "language_info": {
   "codemirror_mode": {
    "name": "ipython",
    "version": 2
   },
   "file_extension": ".py",
   "mimetype": "text/x-python",
   "name": "python",
   "nbconvert_exporter": "python",
   "pygments_lexer": "ipython2",
   "version": "2.7.10"
  }
 },
 "nbformat": 4,
 "nbformat_minor": 0
}
